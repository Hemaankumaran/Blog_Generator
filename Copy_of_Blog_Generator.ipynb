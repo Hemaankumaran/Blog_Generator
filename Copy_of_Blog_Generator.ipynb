{
  "nbformat": 4,
  "nbformat_minor": 0,
  "metadata": {
    "colab": {
      "provenance": [],
      "gpuType": "T4"
    },
    "kernelspec": {
      "name": "python3",
      "display_name": "Python 3"
    },
    "language_info": {
      "name": "python"
    },
    "accelerator": "GPU"
  },
  "cells": [
    {
      "cell_type": "markdown",
      "source": [
        "**Blog Generator Using OpenAI API - GPT-2**"
      ],
      "metadata": {
        "id": "q0g1OWGy6Ral"
      }
    },
    {
      "cell_type": "code",
      "source": [
        "!pip install transformers\n",
        "import os\n",
        "from transformers import pipeline"
      ],
      "metadata": {
        "colab": {
          "base_uri": "https://localhost:8080/"
        },
        "id": "i0KWHgwAcKUQ",
        "outputId": "d85cb805-9d3b-4f54-f879-106d5b5244e3"
      },
      "execution_count": null,
      "outputs": [
        {
          "output_type": "stream",
          "name": "stdout",
          "text": [
            "Requirement already satisfied: transformers in /usr/local/lib/python3.11/dist-packages (4.50.0)\n",
            "Requirement already satisfied: filelock in /usr/local/lib/python3.11/dist-packages (from transformers) (3.18.0)\n",
            "Requirement already satisfied: huggingface-hub<1.0,>=0.26.0 in /usr/local/lib/python3.11/dist-packages (from transformers) (0.29.3)\n",
            "Requirement already satisfied: numpy>=1.17 in /usr/local/lib/python3.11/dist-packages (from transformers) (2.0.2)\n",
            "Requirement already satisfied: packaging>=20.0 in /usr/local/lib/python3.11/dist-packages (from transformers) (24.2)\n",
            "Requirement already satisfied: pyyaml>=5.1 in /usr/local/lib/python3.11/dist-packages (from transformers) (6.0.2)\n",
            "Requirement already satisfied: regex!=2019.12.17 in /usr/local/lib/python3.11/dist-packages (from transformers) (2024.11.6)\n",
            "Requirement already satisfied: requests in /usr/local/lib/python3.11/dist-packages (from transformers) (2.32.3)\n",
            "Requirement already satisfied: tokenizers<0.22,>=0.21 in /usr/local/lib/python3.11/dist-packages (from transformers) (0.21.1)\n",
            "Requirement already satisfied: safetensors>=0.4.3 in /usr/local/lib/python3.11/dist-packages (from transformers) (0.5.3)\n",
            "Requirement already satisfied: tqdm>=4.27 in /usr/local/lib/python3.11/dist-packages (from transformers) (4.67.1)\n",
            "Requirement already satisfied: fsspec>=2023.5.0 in /usr/local/lib/python3.11/dist-packages (from huggingface-hub<1.0,>=0.26.0->transformers) (2025.3.0)\n",
            "Requirement already satisfied: typing-extensions>=3.7.4.3 in /usr/local/lib/python3.11/dist-packages (from huggingface-hub<1.0,>=0.26.0->transformers) (4.12.2)\n",
            "Requirement already satisfied: charset-normalizer<4,>=2 in /usr/local/lib/python3.11/dist-packages (from requests->transformers) (3.4.1)\n",
            "Requirement already satisfied: idna<4,>=2.5 in /usr/local/lib/python3.11/dist-packages (from requests->transformers) (3.10)\n",
            "Requirement already satisfied: urllib3<3,>=1.21.1 in /usr/local/lib/python3.11/dist-packages (from requests->transformers) (2.3.0)\n",
            "Requirement already satisfied: certifi>=2017.4.17 in /usr/local/lib/python3.11/dist-packages (from requests->transformers) (2025.1.31)\n"
          ]
        }
      ]
    },
    {
      "cell_type": "code",
      "source": [
        "generator = pipeline('text-generation', model='gpt2')\n",
        "generated_text = generator(\"Write a story about a cat.\", max_length=100)\n",
        "print(\"Generated Story:\", generated_text)"
      ],
      "metadata": {
        "colab": {
          "base_uri": "https://localhost:8080/"
        },
        "id": "sm81HHDzcKNb",
        "outputId": "3cd569d1-1554-43c4-d887-d2b0cec09bab"
      },
      "execution_count": null,
      "outputs": [
        {
          "output_type": "stream",
          "name": "stderr",
          "text": [
            "Device set to use cuda:0\n",
            "Truncation was not explicitly activated but `max_length` is provided a specific value, please use `truncation=True` to explicitly truncate examples to max length. Defaulting to 'longest_first' truncation strategy. If you encode pairs of sequences (GLUE-style) with the tokenizer you can select this strategy more precisely by providing a specific strategy to `truncation`.\n",
            "Setting `pad_token_id` to `eos_token_id`:50256 for open-end generation.\n"
          ]
        },
        {
          "output_type": "stream",
          "name": "stdout",
          "text": [
            "Generated Story: [{'generated_text': 'Write a story about a cat.\\n\\nI think it should be about two cats (one with a blue, one with black, or one that has silver hair), with two small cats in a litter box.\\n\\nThe main objective in raising a new cat is to try to get as much food so that it can have a positive chance at becoming a good cat. We should be very careful so that when the next arrival arrives it has enough time to make it out of the litter box.'}]\n"
          ]
        }
      ]
    },
    {
      "cell_type": "code",
      "source": [
        "topic = input(\"Enter the topic: \")\n",
        "pointers = input(\"Enter any additional pointers: \")\n",
        "\n",
        "generator = pipeline('text-generation', model='gpt2-large')\n",
        "\n",
        "prompt = f\"\"\"\n",
        "You are a copywriter with years of experience writing impactful blogs that converge and elevate brands.\n",
        "Your task is to write a blog on any topic the system provides you with. Make sure to write in a format that works for Medium.\n",
        "Each blog should be separated into segments that have titles and subtitles, each paragraph should be three sentences long.\n",
        "\n",
        "Topic: {topic}\n",
        "Additional pointers: {pointers}\n",
        "\"\"\"\n",
        "\n",
        "generated_blog = generator(prompt, max_length=500, num_return_sequences=1)\n",
        "print(\"Generated Blog:\\n\", generated_blog[0]['generated_text'])"
      ],
      "metadata": {
        "colab": {
          "base_uri": "https://localhost:8080/"
        },
        "id": "FnTcn0rHcTBS",
        "outputId": "d72b16ed-12dd-4961-ff81-7a990a7bb712"
      },
      "execution_count": null,
      "outputs": [
        {
          "name": "stdout",
          "output_type": "stream",
          "text": [
            "Enter the topic: health\n",
            "Enter any additional pointers: banana\n"
          ]
        },
        {
          "output_type": "stream",
          "name": "stderr",
          "text": [
            "Device set to use cuda:0\n",
            "Truncation was not explicitly activated but `max_length` is provided a specific value, please use `truncation=True` to explicitly truncate examples to max length. Defaulting to 'longest_first' truncation strategy. If you encode pairs of sequences (GLUE-style) with the tokenizer you can select this strategy more precisely by providing a specific strategy to `truncation`.\n",
            "Setting `pad_token_id` to `eos_token_id`:50256 for open-end generation.\n"
          ]
        },
        {
          "output_type": "stream",
          "name": "stdout",
          "text": [
            "Generated Blog:\n",
            " \n",
            "You are a copywriter with years of experience writing impactful blogs that converge and elevate brands.\n",
            "Your task is to write a blog on any topic the system provides you with. Make sure to write in a format that works for Medium.\n",
            "Each blog should be separated into segments that have titles and subtitles, each paragraph should be three sentences long.\n",
            "\n",
            "Topic: health\n",
            "Additional pointers: banana\n",
            "\n",
            "The main goal of this blog is to provide a balanced health and nutrition information.\n",
            "\n",
            "The blog will be comprised of posts with titles that are relevant to the topic but it should be balanced by other interesting and informative posts as well.\n",
            "\n",
            "Create short, relevant posts that you can read in 20 minutes per day.\n",
            "\n",
            "Be sure to provide your target target audience.\n",
            "\n",
            "Use the power of words to make your point or point them in your favor.\n",
            "\n",
            "Be sure to include some facts to back up your statement. Keep to the basics.\n",
            "\n",
            "Use the power of words to make your point or point them in your favor.\n",
            "\n",
            "Be sure to include some facts to back up your statement. Keep to the basics.\n",
            "\n",
            "Be sure to be more than one person involved with the blog.\n",
            "\n",
            "The blogging system will be a social platform that will be shared on various social media platforms.\n",
            "\n",
            "The blogging system will be a social platform that will be shared on various social media platforms.\n",
            "\n",
            "Write your own blog post (or have friends write you one for you!)\n",
            "\n",
            "Be aware of privacy issues.\n",
            "\n",
            "Find the best way to reach and engage people with this platform.\n",
            "\n",
            "If you are a blogger and need help with designing an effective blog post, this is the best tutorial to read.\n",
            "\n",
            "Create a blog post to get readers to see this platform.\n",
            "\n",
            "Be aware of the privacy issues (remember that a social network is a social network that is going to get you a lot of readers – they also can be used to communicate with third parties), and that a website is more than just information that people access and print out in the morning.\n",
            "\n",
            "Write a blog post to get readers engaged with this platform.\n",
            "\n",
            "Be aware of the privacy issues (remember that a social network is a social network that is going to get you a lot of readers – they also can be used to communicate with third parties), and that a website is more than just information that people access and print out in the morning.\n",
            "\n",
            "\n"
          ]
        }
      ]
    }
  ]
}